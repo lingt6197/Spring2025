{
 "cells": [
  {
   "cell_type": "code",
   "execution_count": 3,
   "metadata": {},
   "outputs": [
    {
     "name": "stdout",
     "output_type": "stream",
     "text": [
      "[  1  10 100]\n",
      "[[0 0 0 1 1 0 0]\n",
      " [0 0 0 1 0 0 0]\n",
      " [0 0 0 1 1 1 0]\n",
      " [1 1 1 0 0 0 0]\n",
      " [1 0 1 0 0 1 1]\n",
      " [0 0 1 0 1 0 1]\n",
      " [0 0 0 0 1 1 0]]\n",
      "\n",
      "[[2 0 0 0 0 0 0]\n",
      " [0 1 0 0 0 0 0]\n",
      " [0 0 3 0 0 0 0]\n",
      " [0 0 0 3 0 0 0]\n",
      " [0 0 0 0 4 0 0]\n",
      " [0 0 0 0 0 3 0]\n",
      " [0 0 0 0 0 0 2]]\n"
     ]
    },
    {
     "ename": "ValueError",
     "evalue": "operands could not be broadcast together with shapes (7,7) (5,5) ",
     "output_type": "error",
     "traceback": [
      "\u001b[0;31m---------------------------------------------------------------------------\u001b[0m",
      "\u001b[0;31mValueError\u001b[0m                                Traceback (most recent call last)",
      "Cell \u001b[0;32mIn[3], line 45\u001b[0m\n\u001b[1;32m     42\u001b[0m norm_L2 \u001b[38;5;241m=\u001b[39m D_sqrt_inv_2 \u001b[38;5;241m@\u001b[39m L2 \u001b[38;5;241m@\u001b[39m D_sqrt_inv_2\n\u001b[1;32m     43\u001b[0m \u001b[38;5;66;03m# print(norm_L1)\u001b[39;00m\n\u001b[0;32m---> 45\u001b[0m adj_frob \u001b[38;5;241m=\u001b[39m np\u001b[38;5;241m.\u001b[39mlinalg\u001b[38;5;241m.\u001b[39mnorm(\u001b[43mA1\u001b[49m\u001b[43m \u001b[49m\u001b[38;5;241;43m-\u001b[39;49m\u001b[43m \u001b[49m\u001b[43mA2\u001b[49m, \u001b[38;5;124m'\u001b[39m\u001b[38;5;124mfro\u001b[39m\u001b[38;5;124m'\u001b[39m) \u001b[38;5;66;03m# Frobenius norm\u001b[39;00m\n\u001b[1;32m     46\u001b[0m \u001b[38;5;66;03m# print(adj_frob)\u001b[39;00m\n",
      "\u001b[0;31mValueError\u001b[0m: operands could not be broadcast together with shapes (7,7) (5,5) "
     ]
    }
   ],
   "source": [
    "import networkx as nx\n",
    "import matplotlib.pyplot as plt\n",
    "import numpy as np\n",
    "import time\n",
    "\n",
    "n_lower = 0; n_upper = 2\n",
    "num = np.unique(np.logspace(n_lower, n_upper, num = n_upper+1, base=10, dtype = int))\n",
    "prob = np.arange(0.1, 1, 0.1)\n",
    "num_graphs = 10\n",
    "print(num)\n",
    "# g1 = nx.erdos_renyi_graph(10, 0.5, seed = None)\n",
    "# g2 = nx.erdos_renyi_graph(10, 0.5)\n",
    "\n",
    "g1 = nx.erdos_renyi_graph(7, 0.5, seed = 2)\n",
    "g2 = nx.erdos_renyi_graph(5, 0.5, seed = 3)\n",
    "# nx.draw(g1, with_labels=True)\n",
    "# plt.show()\n",
    "a1 = nx.adjacency_matrix(g1)\n",
    "A1 = np.matrix(a1.toarray())\n",
    "a2 = nx.adjacency_matrix(g2)\n",
    "A2 = np.matrix(a2.toarray())\n",
    "print(A1)\n",
    "\n",
    "degrees_1 = np.array([deg for _, deg in g1.degree()])\n",
    "degrees_1 = np.where(degrees_1 == 0, 1, degrees_1)\n",
    "degrees_2 = np.array([deg for _, deg in g2.degree()])\n",
    "degrees_2 = np.where(degrees_2 == 0, 1, degrees_2)\n",
    "\n",
    "D1 = np.diag(degrees_1)\n",
    "D2 = np.diag(degrees_2)\n",
    "print(\"\")\n",
    "print(D1)\n",
    "# print(np.sqrt(D))\n",
    "\n",
    "L1 = D1 - A1   # graph Laplacian\n",
    "L2 = D2 - A2\n",
    "\n",
    "D_sqrt_inv_1 = np.diag(1 / np.sqrt(degrees_1))\n",
    "norm_L1 = D_sqrt_inv_1 @ L1 @ D_sqrt_inv_1   # normalized Laplacian\n",
    "\n",
    "D_sqrt_inv_2 = np.diag(1 / np.sqrt(degrees_2))\n",
    "norm_L2 = D_sqrt_inv_2 @ L2 @ D_sqrt_inv_2\n",
    "# print(norm_L1)\n",
    "\n",
    "adj_frob = np.linalg.norm(A1 - A2, 'fro') # Frobenius norm\n",
    "# print(adj_frob)"
   ]
  },
  {
   "cell_type": "code",
   "execution_count": 80,
   "metadata": {},
   "outputs": [
    {
     "name": "stdout",
     "output_type": "stream",
     "text": [
      "1.2197159474978783\n",
      "1.4049058697822805\n"
     ]
    }
   ],
   "source": [
    "adj_e1 = np.linalg.eig(A1)[0]\n",
    "adj_e1 = adj_e1[np.argsort(adj_e1)]\n",
    "adj_e2 = np.linalg.eig(A2)[0]\n",
    "adj_e2 = adj_e2[np.argsort(adj_e2)]\n",
    "\n",
    "lap_e1 = np.linalg.eig(L1)[0]\n",
    "lap_e1 = lap_e1[np.argsort(lap_e1)]\n",
    "lap_e2 = np.linalg.eig(L2)[0]\n",
    "lap_e2 = lap_e2[np.argsort(lap_e2)]\n",
    "# print(len(adj_e1))\n",
    "# print(len(lap_e1))\n",
    "if len(adj_e1) == len(adj_e2) and len(lap_e1) == len(lap_e2):\n",
    "    adj_spec_dist = np.sum(np.abs(adj_e1 - adj_e2))\n",
    "    lap_spec_dist = np.sum(np.abs(lap_e1 - lap_e2))\n",
    "\n",
    "print(adj_spec_dist)\n",
    "print(lap_spec_dist)"
   ]
  },
  {
   "cell_type": "code",
   "execution_count": null,
   "metadata": {},
   "outputs": [
    {
     "name": "stdout",
     "output_type": "stream",
     "text": [
      "[5 6 5]\n"
     ]
    }
   ],
   "source": [
    "# numpy.random.binomial\n",
    "print(np.random.binomial(10, 0.5, 3)) # will generate a vector of n choose 2 entries, each with a probablity that its 1 or 0\n",
    "# isomorphism\n",
    "# so each vector generated randomly from the binomial distribution is a row in our adjacency matrix\n",
    "# where the first row is n - 1 entries\n",
    "# second row is n - 2 entries\n",
    "# ...\n",
    "# second to last row is 2 entries\n",
    "# and last row is 1 entry \n",
    "# and these rows correspond to our upper right hand triangle matrix\n",
    "\n",
    "# and stacking these vectors on top of each other then mirroring by symmetry would give a complete adjacency matrix\n",
    "\n"
   ]
  },
  {
   "cell_type": "code",
   "execution_count": null,
   "metadata": {},
   "outputs": [],
   "source": [
    "# For uniform distribution, the points in the point cloud are uniformly/evenly spread across our metric space [0,1]^d.\n"
   ]
  }
 ],
 "metadata": {
  "kernelspec": {
   "display_name": "base",
   "language": "python",
   "name": "python3"
  },
  "language_info": {
   "codemirror_mode": {
    "name": "ipython",
    "version": 3
   },
   "file_extension": ".py",
   "mimetype": "text/x-python",
   "name": "python",
   "nbconvert_exporter": "python",
   "pygments_lexer": "ipython3",
   "version": "3.11.4"
  }
 },
 "nbformat": 4,
 "nbformat_minor": 2
}
