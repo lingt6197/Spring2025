{
 "cells": [
  {
   "cell_type": "code",
   "execution_count": 84,
   "metadata": {},
   "outputs": [
    {
     "name": "stdout",
     "output_type": "stream",
     "text": [
      "[  1  10 100]\n",
      "[[1.]]\n",
      "0.0\n"
     ]
    }
   ],
   "source": [
    "import networkx as nx\n",
    "import matplotlib.pyplot as plt\n",
    "import numpy as np\n",
    "import time\n",
    "\n",
    "n_lower = 0; n_upper = 2\n",
    "num = np.unique(np.logspace(n_lower, n_upper, num = n_upper+1, base=10, dtype = int))\n",
    "prob = np.arange(0.1, 1, 0.1)\n",
    "num_graphs = 10\n",
    "print(num)\n",
    "# g1 = nx.erdos_renyi_graph(10, 0.5, seed = None)\n",
    "# g2 = nx.erdos_renyi_graph(10, 0.5)\n",
    "\n",
    "g1 = nx.erdos_renyi_graph(1, 0.5, seed = 2)\n",
    "g2 = nx.erdos_renyi_graph(1, 0.5, seed = 3)\n",
    "# nx.draw(g1, with_labels=True)\n",
    "# plt.show()\n",
    "a1 = nx.adjacency_matrix(g1)\n",
    "A1 = np.matrix(a1.toarray())\n",
    "a2 = nx.adjacency_matrix(g2)\n",
    "A2 = np.matrix(a2.toarray())\n",
    "# print(A)\n",
    "\n",
    "degrees_1 = np.array([deg for _, deg in g1.degree()])\n",
    "degrees_1 = np.where(degrees_1 == 0, 1, degrees_1)\n",
    "degrees_2 = np.array([deg for _, deg in g2.degree()])\n",
    "degrees_2 = np.where(degrees_2 == 0, 1, degrees_2)\n",
    "\n",
    "D1 = np.diag(degrees_1)\n",
    "D2 = np.diag(degrees_2)\n",
    "# print(np.sqrt(D))\n",
    "\n",
    "L1 = D1 - A1   # graph Laplacian\n",
    "L2 = D2 - A2\n",
    "\n",
    "D_sqrt_inv_1 = np.diag(1 / np.sqrt(degrees_1))\n",
    "norm_L1 = D_sqrt_inv_1 @ L1 @ D_sqrt_inv_1   # normalized Laplacian\n",
    "\n",
    "D_sqrt_inv_2 = np.diag(1 / np.sqrt(degrees_2))\n",
    "norm_L2 = D_sqrt_inv_2 @ L2 @ D_sqrt_inv_2\n",
    "print(norm_L1)\n",
    "\n",
    "adj_frob = np.linalg.norm(A1 - A2, 'fro') # Frobenius norm\n",
    "print(adj_frob)"
   ]
  },
  {
   "cell_type": "code",
   "execution_count": 80,
   "metadata": {},
   "outputs": [
    {
     "name": "stdout",
     "output_type": "stream",
     "text": [
      "1.2197159474978783\n",
      "1.4049058697822805\n"
     ]
    }
   ],
   "source": [
    "adj_e1 = np.linalg.eig(A1)[0]\n",
    "adj_e1 = adj_e1[np.argsort(adj_e1)]\n",
    "adj_e2 = np.linalg.eig(A2)[0]\n",
    "adj_e2 = adj_e2[np.argsort(adj_e2)]\n",
    "\n",
    "lap_e1 = np.linalg.eig(L1)[0]\n",
    "lap_e1 = lap_e1[np.argsort(lap_e1)]\n",
    "lap_e2 = np.linalg.eig(L2)[0]\n",
    "lap_e2 = lap_e2[np.argsort(lap_e2)]\n",
    "# print(len(adj_e1))\n",
    "# print(len(lap_e1))\n",
    "if len(adj_e1) == len(adj_e2) and len(lap_e1) == len(lap_e2):\n",
    "    adj_spec_dist = np.sum(np.abs(adj_e1 - adj_e2))\n",
    "    lap_spec_dist = np.sum(np.abs(lap_e1 - lap_e2))\n",
    "\n",
    "print(adj_spec_dist)\n",
    "print(lap_spec_dist)"
   ]
  },
  {
   "cell_type": "code",
   "execution_count": null,
   "metadata": {},
   "outputs": [],
   "source": []
  }
 ],
 "metadata": {
  "kernelspec": {
   "display_name": "base",
   "language": "python",
   "name": "python3"
  },
  "language_info": {
   "codemirror_mode": {
    "name": "ipython",
    "version": 3
   },
   "file_extension": ".py",
   "mimetype": "text/x-python",
   "name": "python",
   "nbconvert_exporter": "python",
   "pygments_lexer": "ipython3",
   "version": "3.11.4"
  }
 },
 "nbformat": 4,
 "nbformat_minor": 2
}
